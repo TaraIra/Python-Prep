{
 "cells": [
  {
   "attachments": {},
   "cell_type": "markdown",
   "metadata": {},
   "source": [
    "## Estructuras de Datos"
   ]
  },
  {
   "attachments": {},
   "cell_type": "markdown",
   "metadata": {},
   "source": [
    "1) Crear una lista que contenga nombres de ciudades del mundo que contenga más de 5 elementos e imprimir por pantalla"
   ]
  },
  {
   "cell_type": "code",
   "execution_count": 14,
   "metadata": {},
   "outputs": [
    {
     "name": "stdout",
     "output_type": "stream",
     "text": [
      "['Paris', 'Madrid', 'Bruselas', 'Berlín', 'Bogota', 'México', 'Lima', 'Barranquilla']\n"
     ]
    }
   ],
   "source": [
    "ciudades = [\"Paris\",\"Madrid\",\"Bruselas\",\"Berlín\",\"Bogota\",\"México\",\"Lima\",\"Barranquilla\"]\n",
    "print(ciudades)"
   ]
  },
  {
   "attachments": {},
   "cell_type": "markdown",
   "metadata": {},
   "source": [
    "2) Imprimir por pantalla el segundo elemento de la lista"
   ]
  },
  {
   "cell_type": "code",
   "execution_count": 11,
   "metadata": {},
   "outputs": [
    {
     "name": "stdout",
     "output_type": "stream",
     "text": [
      "Bruselas\n"
     ]
    }
   ],
   "source": [
    "print(ciudades[2])"
   ]
  },
  {
   "attachments": {},
   "cell_type": "markdown",
   "metadata": {},
   "source": [
    "3) Imprimir por pantalla del segundo al cuarto elemento"
   ]
  },
  {
   "cell_type": "code",
   "execution_count": 12,
   "metadata": {},
   "outputs": [
    {
     "name": "stdout",
     "output_type": "stream",
     "text": [
      "['Bruselas', 'Berlín', 'Bogota']\n"
     ]
    }
   ],
   "source": [
    "print(ciudades[2:5])"
   ]
  },
  {
   "attachments": {},
   "cell_type": "markdown",
   "metadata": {},
   "source": [
    "4) Visualizar el tipo de dato de la lista"
   ]
  },
  {
   "cell_type": "code",
   "execution_count": 13,
   "metadata": {},
   "outputs": [
    {
     "name": "stdout",
     "output_type": "stream",
     "text": [
      "<class 'list'>\n"
     ]
    }
   ],
   "source": [
    "print(type(ciudades))"
   ]
  },
  {
   "attachments": {},
   "cell_type": "markdown",
   "metadata": {},
   "source": [
    "5) Visualizar todos los elementos de la lista a partir del tercero de manera genérica, es decir, sin explicitar la posición del último elemento"
   ]
  },
  {
   "cell_type": "code",
   "execution_count": 17,
   "metadata": {},
   "outputs": [
    {
     "name": "stdout",
     "output_type": "stream",
     "text": [
      "['Berlín', 'Bogota', 'México', 'Lima', 'Barranquilla']\n"
     ]
    }
   ],
   "source": [
    "print(ciudades[3:])"
   ]
  },
  {
   "attachments": {},
   "cell_type": "markdown",
   "metadata": {},
   "source": [
    "6) Visualizar los primeros 4 elementos de la lista"
   ]
  },
  {
   "cell_type": "code",
   "execution_count": 14,
   "metadata": {},
   "outputs": [
    {
     "name": "stdout",
     "output_type": "stream",
     "text": [
      "['Paris', 'Madrid', 'Bruselas', 'Berlín']\n"
     ]
    }
   ],
   "source": [
    "print(ciudades[:4])"
   ]
  },
  {
   "attachments": {},
   "cell_type": "markdown",
   "metadata": {},
   "source": [
    "7) Agregar una ciudad más a la lista que ya exista y otra que no ¿Arroja algún tipo de error?"
   ]
  },
  {
   "cell_type": "code",
   "execution_count": 15,
   "metadata": {},
   "outputs": [
    {
     "name": "stdout",
     "output_type": "stream",
     "text": [
      "['Paris', 'Madrid', 'Bruselas', 'Berlín', 'Bogota', 'México', 'Lima', 'Barranquilla', 'Lima', 'Quito']\n"
     ]
    }
   ],
   "source": [
    "ciudades.append(\"Lima\")\n",
    "ciudades.append(\"Quito\")\n",
    "print(ciudades)"
   ]
  },
  {
   "cell_type": "code",
   "execution_count": 16,
   "metadata": {},
   "outputs": [
    {
     "name": "stdout",
     "output_type": "stream",
     "text": [
      "['Paris', 'Madrid', 'Bruselas', 'Berlín', 'Bogota', 'México', 'Lima', 'Barranquilla', 'Lima', 'Quito']\n"
     ]
    }
   ],
   "source": [
    "print(ciudades)"
   ]
  },
  {
   "attachments": {},
   "cell_type": "markdown",
   "metadata": {},
   "source": [
    "8) Agregar otra ciudad, pero en la cuarta posición"
   ]
  },
  {
   "cell_type": "code",
   "execution_count": 17,
   "metadata": {},
   "outputs": [
    {
     "name": "stdout",
     "output_type": "stream",
     "text": [
      "['Paris', 'Madrid', 'Bruselas', 'Berlín', 'Buenos Aires', 'Bogota', 'México', 'Lima', 'Barranquilla', 'Lima', 'Quito']\n"
     ]
    }
   ],
   "source": [
    "ciudades.insert(4,\"Buenos Aires\")\n",
    "print(ciudades)"
   ]
  },
  {
   "attachments": {},
   "cell_type": "markdown",
   "metadata": {},
   "source": [
    "9) Concatenar otra lista a la ya creada"
   ]
  },
  {
   "cell_type": "code",
   "execution_count": 18,
   "metadata": {},
   "outputs": [
    {
     "name": "stdout",
     "output_type": "stream",
     "text": [
      "['Paris', 'Madrid', 'Bruselas', 'Berlín', 'Buenos Aires', 'Bogota', 'México', 'Lima', 'Barranquilla', 'Lima', 'Quito', 'Miami', 'Dubai', 'Argelia']\n"
     ]
    }
   ],
   "source": [
    "ciudades.extend([\"Miami\",\"Dubai\",\"Argelia\"])\n",
    "print(ciudades)"
   ]
  },
  {
   "attachments": {},
   "cell_type": "markdown",
   "metadata": {},
   "source": [
    "10) Encontrar el índice de la ciudad que en el punto 7 agregamos duplicada. ¿Se nota alguna particularidad?"
   ]
  },
  {
   "cell_type": "code",
   "execution_count": 19,
   "metadata": {},
   "outputs": [
    {
     "data": {
      "text/plain": [
       "7"
      ]
     },
     "execution_count": 19,
     "metadata": {},
     "output_type": "execute_result"
    }
   ],
   "source": [
    "ciudades.index(\"Lima\")\n"
   ]
  },
  {
   "attachments": {},
   "cell_type": "markdown",
   "metadata": {},
   "source": [
    "11) ¿Qué pasa si se busca un elemento que no existe?"
   ]
  },
  {
   "cell_type": "code",
   "execution_count": 20,
   "metadata": {},
   "outputs": [
    {
     "ename": "ValueError",
     "evalue": "'Cali' is not in list",
     "output_type": "error",
     "traceback": [
      "\u001b[1;31m---------------------------------------------------------------------------\u001b[0m",
      "\u001b[1;31mValueError\u001b[0m                                Traceback (most recent call last)",
      "\u001b[1;32mc:\\Users\\ndira\\OneDrive\\Escritorio\\Python-Prep\\M05_estructuradedatos\\Prep_Course_Homework_05.ipynb Cell 24\u001b[0m line \u001b[0;36m1\n\u001b[1;32m----> <a href='vscode-notebook-cell:/c%3A/Users/ndira/OneDrive/Escritorio/Python-Prep/M05_estructuradedatos/Prep_Course_Homework_05.ipynb#X32sZmlsZQ%3D%3D?line=0'>1</a>\u001b[0m \u001b[39mprint\u001b[39m(ciudades\u001b[39m.\u001b[39;49mindex(\u001b[39m\"\u001b[39;49m\u001b[39mCali\u001b[39;49m\u001b[39m\"\u001b[39;49m))\n",
      "\u001b[1;31mValueError\u001b[0m: 'Cali' is not in list"
     ]
    }
   ],
   "source": [
    "print(ciudades.index(\"Cali\"))"
   ]
  },
  {
   "attachments": {},
   "cell_type": "markdown",
   "metadata": {},
   "source": [
    "12) Eliminar un elemento de la lista"
   ]
  },
  {
   "cell_type": "code",
   "execution_count": 21,
   "metadata": {},
   "outputs": [
    {
     "name": "stdout",
     "output_type": "stream",
     "text": [
      "['Paris', 'Madrid', 'Bruselas', 'Berlín', 'Buenos Aires', 'Bogota', 'México', 'Barranquilla', 'Lima', 'Quito', 'Miami', 'Dubai', 'Argelia']\n"
     ]
    }
   ],
   "source": [
    "ciudades.remove(\"Lima\")\n",
    "print(ciudades)"
   ]
  },
  {
   "attachments": {},
   "cell_type": "markdown",
   "metadata": {},
   "source": [
    "13) ¿Qué pasa si el elemento a eliminar no existe?"
   ]
  },
  {
   "cell_type": "code",
   "execution_count": 22,
   "metadata": {},
   "outputs": [
    {
     "ename": "ValueError",
     "evalue": "list.remove(x): x not in list",
     "output_type": "error",
     "traceback": [
      "\u001b[1;31m---------------------------------------------------------------------------\u001b[0m",
      "\u001b[1;31mValueError\u001b[0m                                Traceback (most recent call last)",
      "\u001b[1;32mc:\\Users\\ndira\\OneDrive\\Escritorio\\Python-Prep\\M05_estructuradedatos\\Prep_Course_Homework_05.ipynb Cell 28\u001b[0m line \u001b[0;36m1\n\u001b[1;32m----> <a href='vscode-notebook-cell:/c%3A/Users/ndira/OneDrive/Escritorio/Python-Prep/M05_estructuradedatos/Prep_Course_Homework_05.ipynb#X36sZmlsZQ%3D%3D?line=0'>1</a>\u001b[0m ciudades\u001b[39m.\u001b[39;49mremove(\u001b[39m\"\u001b[39;49m\u001b[39mGuajira\u001b[39;49m\u001b[39m\"\u001b[39;49m)\n\u001b[0;32m      <a href='vscode-notebook-cell:/c%3A/Users/ndira/OneDrive/Escritorio/Python-Prep/M05_estructuradedatos/Prep_Course_Homework_05.ipynb#X36sZmlsZQ%3D%3D?line=1'>2</a>\u001b[0m \u001b[39mprint\u001b[39m(ciudades)\n",
      "\u001b[1;31mValueError\u001b[0m: list.remove(x): x not in list"
     ]
    }
   ],
   "source": [
    "ciudades.remove(\"Guajira\")\n",
    "print(ciudades)"
   ]
  },
  {
   "attachments": {},
   "cell_type": "markdown",
   "metadata": {},
   "source": [
    "14) Extraer el úlimo elemento de la lista, guardarlo en una variable e imprimirlo"
   ]
  },
  {
   "cell_type": "code",
   "execution_count": 23,
   "metadata": {},
   "outputs": [
    {
     "name": "stdout",
     "output_type": "stream",
     "text": [
      "['Paris', 'Madrid', 'Bruselas', 'Berlín', 'Buenos Aires', 'Bogota', 'México', 'Barranquilla', 'Lima', 'Quito', 'Miami', 'Dubai']\n"
     ]
    }
   ],
   "source": [
    "ultimo=ciudades.pop()\n",
    "print(ciudades)"
   ]
  },
  {
   "cell_type": "code",
   "execution_count": 24,
   "metadata": {},
   "outputs": [
    {
     "name": "stdout",
     "output_type": "stream",
     "text": [
      "Argelia\n"
     ]
    }
   ],
   "source": [
    "print(ultimo)"
   ]
  },
  {
   "attachments": {},
   "cell_type": "markdown",
   "metadata": {},
   "source": [
    "15) Mostrar la lista multiplicada por 4"
   ]
  },
  {
   "cell_type": "code",
   "execution_count": 27,
   "metadata": {},
   "outputs": [
    {
     "name": "stdout",
     "output_type": "stream",
     "text": [
      "['Madrid', 'Bruselas', 'Berlín', 'Buenos Aires', 'Bogota', 'México', 'Barranquilla', 'Lima', 'Quito', 'Miami', 'Dubai', 'Madrid', 'Bruselas', 'Berlín', 'Buenos Aires', 'Bogota', 'México', 'Barranquilla', 'Lima', 'Quito', 'Miami', 'Dubai', 'Madrid', 'Bruselas', 'Berlín', 'Buenos Aires', 'Bogota', 'México', 'Barranquilla', 'Lima', 'Quito', 'Miami', 'Dubai', 'Madrid', 'Bruselas', 'Berlín', 'Buenos Aires', 'Bogota', 'México', 'Barranquilla', 'Lima', 'Quito', 'Miami', 'Dubai']\n"
     ]
    }
   ],
   "source": [
    "print(ciudades*4)"
   ]
  },
  {
   "attachments": {},
   "cell_type": "markdown",
   "metadata": {},
   "source": [
    "16) Crear una tupla que contenga los números enteros del 1 al 20"
   ]
  },
  {
   "cell_type": "code",
   "execution_count": 1,
   "metadata": {},
   "outputs": [
    {
     "name": "stdout",
     "output_type": "stream",
     "text": [
      "<class 'tuple'>\n"
     ]
    }
   ],
   "source": [
    "mi_tupla=(1,2,3,4,5,6,7,8,9,10,11,12,13,14,15,16,17,18,19,20)\n",
    "print(type(mi_tupla))"
   ]
  },
  {
   "attachments": {},
   "cell_type": "markdown",
   "metadata": {},
   "source": [
    "17) Imprimir desde el índice 10 al 15 de la tupla"
   ]
  },
  {
   "cell_type": "code",
   "execution_count": 2,
   "metadata": {},
   "outputs": [
    {
     "name": "stdout",
     "output_type": "stream",
     "text": [
      "(11, 12, 13, 14, 15)\n"
     ]
    }
   ],
   "source": [
    "print(mi_tupla[10:15])"
   ]
  },
  {
   "attachments": {},
   "cell_type": "markdown",
   "metadata": {},
   "source": [
    "18) Evaluar si los números 20 y 30 están dentro de la tupla"
   ]
  },
  {
   "cell_type": "code",
   "execution_count": 3,
   "metadata": {},
   "outputs": [
    {
     "name": "stdout",
     "output_type": "stream",
     "text": [
      "True\n",
      "False\n"
     ]
    }
   ],
   "source": [
    "esta_20 = 20 in mi_tupla\n",
    "esta_30 = 30 in mi_tupla\n",
    "print(esta_20)\n",
    "print(esta_30)\n"
   ]
  },
  {
   "attachments": {},
   "cell_type": "markdown",
   "metadata": {},
   "source": [
    "19) Con la lista creada en el punto 1, validar la existencia del elemento 'París' y si no existe, agregarlo. Utilizar una variable e informar lo sucedido."
   ]
  },
  {
   "cell_type": "code",
   "execution_count": 3,
   "metadata": {},
   "outputs": [
    {
     "ename": "NameError",
     "evalue": "name 'ciudades' is not defined",
     "output_type": "error",
     "traceback": [
      "\u001b[1;31m---------------------------------------------------------------------------\u001b[0m",
      "\u001b[1;31mNameError\u001b[0m                                 Traceback (most recent call last)",
      "\u001b[1;32mc:\\Users\\ndira\\OneDrive\\Escritorio\\Python-Prep\\M05_estructuradedatos\\Prep_Course_Homework_05.ipynb Cell 41\u001b[0m line \u001b[0;36m1\n\u001b[1;32m----> <a href='vscode-notebook-cell:/c%3A/Users/ndira/OneDrive/Escritorio/Python-Prep/M05_estructuradedatos/Prep_Course_Homework_05.ipynb#X55sZmlsZQ%3D%3D?line=0'>1</a>\u001b[0m \u001b[39mprint\u001b[39m(ciudades\u001b[39m.\u001b[39mindex(\u001b[39m\"\u001b[39m\u001b[39mParis\u001b[39m\u001b[39m\"\u001b[39m))\n",
      "\u001b[1;31mNameError\u001b[0m: name 'ciudades' is not defined"
     ]
    }
   ],
   "source": [
    "print(ciudades.index(\"Paris\"))"
   ]
  },
  {
   "attachments": {},
   "cell_type": "markdown",
   "metadata": {},
   "source": [
    "20) Mostrar la cantidad de veces que se encuentra un elemento específico dentro de la tupla y de la lista"
   ]
  },
  {
   "cell_type": "code",
   "execution_count": 1,
   "metadata": {},
   "outputs": [
    {
     "ename": "NameError",
     "evalue": "name 'ciudades' is not defined",
     "output_type": "error",
     "traceback": [
      "\u001b[1;31m---------------------------------------------------------------------------\u001b[0m",
      "\u001b[1;31mNameError\u001b[0m                                 Traceback (most recent call last)",
      "\u001b[1;32mc:\\Users\\ndira\\OneDrive\\Escritorio\\Python-Prep\\M05_estructuradedatos\\Prep_Course_Homework_05.ipynb Cell 43\u001b[0m line \u001b[0;36m2\n\u001b[0;32m      <a href='vscode-notebook-cell:/c%3A/Users/ndira/OneDrive/Escritorio/Python-Prep/M05_estructuradedatos/Prep_Course_Homework_05.ipynb#X60sZmlsZQ%3D%3D?line=0'>1</a>\u001b[0m elemento_a_contar \u001b[39m=\u001b[39m \u001b[39m\"\u001b[39m\u001b[39mDubai\u001b[39m\u001b[39m\"\u001b[39m\n\u001b[1;32m----> <a href='vscode-notebook-cell:/c%3A/Users/ndira/OneDrive/Escritorio/Python-Prep/M05_estructuradedatos/Prep_Course_Homework_05.ipynb#X60sZmlsZQ%3D%3D?line=1'>2</a>\u001b[0m cantidad_en_lista \u001b[39m=\u001b[39m ciudades\u001b[39m.\u001b[39mcount(elemento_a_contar)\n\u001b[0;32m      <a href='vscode-notebook-cell:/c%3A/Users/ndira/OneDrive/Escritorio/Python-Prep/M05_estructuradedatos/Prep_Course_Homework_05.ipynb#X60sZmlsZQ%3D%3D?line=2'>3</a>\u001b[0m \u001b[39mprint\u001b[39m(\u001b[39mf\u001b[39m\u001b[39m\"\u001b[39m\u001b[39mEn la lista, el elemento \u001b[39m\u001b[39m{\u001b[39;00melemento_a_contar\u001b[39m}\u001b[39;00m\u001b[39m aparece \u001b[39m\u001b[39m{\u001b[39;00mcantidad_en_lista\u001b[39m}\u001b[39;00m\u001b[39m veces.\u001b[39m\u001b[39m\"\u001b[39m)\n",
      "\u001b[1;31mNameError\u001b[0m: name 'ciudades' is not defined"
     ]
    }
   ],
   "source": [
    "elemento_a_contar = \"Dubai\"\n",
    "cantidad_en_lista = ciudades.count(elemento_a_contar)\n",
    "print(f\"En la lista, el elemento {elemento_a_contar} aparece {cantidad_en_lista} veces.\")"
   ]
  },
  {
   "attachments": {},
   "cell_type": "markdown",
   "metadata": {},
   "source": [
    "21) Convertir la tupla en una lista"
   ]
  },
  {
   "cell_type": "code",
   "execution_count": 4,
   "metadata": {},
   "outputs": [
    {
     "name": "stdout",
     "output_type": "stream",
     "text": [
      "[1, 2, 3, 4, 5, 6, 7, 8, 9, 10, 11, 12, 13, 14, 15, 16, 17, 18, 19, 20]\n"
     ]
    }
   ],
   "source": [
    "lis2= list(mi_tupla)\n",
    "print(lis2)"
   ]
  },
  {
   "attachments": {},
   "cell_type": "markdown",
   "metadata": {},
   "source": [
    "22) Desempaquetar solo los primeros 3 elementos de la tupla en 3 variables"
   ]
  },
  {
   "attachments": {},
   "cell_type": "markdown",
   "metadata": {},
   "source": [
    "23) Crear un diccionario utilizando la lista crada en el punto 1, asignandole la clave \"ciudad\". Agregar tambien otras claves, como puede ser \"Pais\" y \"Continente\"."
   ]
  },
  {
   "cell_type": "code",
   "execution_count": 15,
   "metadata": {},
   "outputs": [
    {
     "name": "stdout",
     "output_type": "stream",
     "text": [
      "['Paris', 'Madrid', 'Bruselas', 'Berlín', 'Bogota', 'México', 'Lima', 'Barranquilla']\n"
     ]
    }
   ],
   "source": [
    "print(ciudades)"
   ]
  },
  {
   "cell_type": "code",
   "execution_count": 21,
   "metadata": {},
   "outputs": [],
   "source": [
    "mi_diccionario = {\n",
    "    'Ciudad': ciudades,\n",
    "    'Pais': {'Paris': 'Francia', 'Madrid': 'España', 'Bruselas': 'Belgica', 'Berlín': 'Alemania', 'Bogota': 'Colombia'},\n",
    "    'Continente': {'Paris': 'Europa', 'Madrid': 'Europa', 'Bruselas': 'Europa', 'Berlín': 'Europa', 'Bogota': 'America'}}\n"
   ]
  },
  {
   "attachments": {},
   "cell_type": "markdown",
   "metadata": {},
   "source": [
    "24) Imprimir las claves del diccionario"
   ]
  },
  {
   "cell_type": "code",
   "execution_count": 20,
   "metadata": {},
   "outputs": [
    {
     "name": "stdout",
     "output_type": "stream",
     "text": [
      "{'Ciudad': ['Paris', 'Madrid', 'Bruselas', 'Berlín', 'Bogota', 'México', 'Lima', 'Barranquilla'], 'Pais': {'Paris': 'Francia', 'Madrid': 'España', 'Bruselas': 'Belgica', 'Berlín': 'Alemania', 'Bogota': 'Colombia'}, 'Continente': {'Paris': 'Europa', 'Madrid': 'Europa', 'Bruselas': 'Europa', 'Berlín': 'Europa', 'Bogota': 'America'}}\n"
     ]
    }
   ],
   "source": [
    "print(mi_diccionario)"
   ]
  },
  {
   "attachments": {},
   "cell_type": "markdown",
   "metadata": {},
   "source": [
    "25) Imprimir las ciudades a través de su clave"
   ]
  },
  {
   "cell_type": "code",
   "execution_count": 23,
   "metadata": {},
   "outputs": [
    {
     "name": "stdout",
     "output_type": "stream",
     "text": [
      "dict_keys(['Ciudad', 'Pais', 'Continente'])\n"
     ]
    }
   ],
   "source": [
    "print(mi_diccionario.keys())"
   ]
  },
  {
   "cell_type": "code",
   "execution_count": 24,
   "metadata": {},
   "outputs": [
    {
     "name": "stdout",
     "output_type": "stream",
     "text": [
      "dict_values([['Paris', 'Madrid', 'Bruselas', 'Berlín', 'Bogota', 'México', 'Lima', 'Barranquilla'], {'Paris': 'Francia', 'Madrid': 'España', 'Bruselas': 'Belgica', 'Berlín': 'Alemania', 'Bogota': 'Colombia'}, {'Paris': 'Europa', 'Madrid': 'Europa', 'Bruselas': 'Europa', 'Berlín': 'Europa', 'Bogota': 'America'}])\n"
     ]
    }
   ],
   "source": [
    "print(mi_diccionario.values())"
   ]
  }
 ],
 "metadata": {
  "interpreter": {
   "hash": "c85384e4cb51c8b72350f3a8712cc8351fdc3955e32a27f9b60c6242ab125f01"
  },
  "kernelspec": {
   "display_name": "Python 3 (ipykernel)",
   "language": "python",
   "name": "python3"
  },
  "language_info": {
   "codemirror_mode": {
    "name": "ipython",
    "version": 3
   },
   "file_extension": ".py",
   "mimetype": "text/x-python",
   "name": "python",
   "nbconvert_exporter": "python",
   "pygments_lexer": "ipython3",
   "version": "3.11.6"
  }
 },
 "nbformat": 4,
 "nbformat_minor": 4
}
